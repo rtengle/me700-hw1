{
 "cells": [
  {
   "cell_type": "code",
   "execution_count": 1,
   "metadata": {},
   "outputs": [],
   "source": [
    "from newton import *\n",
    "import numpy as np"
   ]
  },
  {
   "cell_type": "code",
   "execution_count": 7,
   "metadata": {},
   "outputs": [],
   "source": [
    "def f(x):\n",
    "    return x**2"
   ]
  },
  {
   "cell_type": "code",
   "execution_count": 8,
   "metadata": {},
   "outputs": [
    {
     "data": {
      "text/plain": [
       "array([[6.00000002]])"
      ]
     },
     "execution_count": 8,
     "metadata": {},
     "output_type": "execute_result"
    }
   ],
   "source": [
    "jacobian(f, 3)"
   ]
  },
  {
   "cell_type": "code",
   "execution_count": 12,
   "metadata": {},
   "outputs": [],
   "source": [
    "x, y = newton(f, np.array([2, 3]))"
   ]
  },
  {
   "cell_type": "code",
   "execution_count": 13,
   "metadata": {},
   "outputs": [
    {
     "data": {
      "text/plain": [
       "[array([2, 3]),\n",
       " array([1. , 1.5]),\n",
       " array([0.5 , 0.75]),\n",
       " array([0.25 , 0.375]),\n",
       " array([0.125 , 0.1875]),\n",
       " array([0.0625 , 0.09375]),\n",
       " array([0.03125 , 0.046875]),\n",
       " array([0.015625 , 0.0234375]),\n",
       " array([0.0078125 , 0.01171875]),\n",
       " array([0.00390625, 0.00585938]),\n",
       " array([0.00195312, 0.00292969]),\n",
       " array([0.00097656, 0.00146484]),\n",
       " array([0.00048828, 0.00073242])]"
      ]
     },
     "execution_count": 13,
     "metadata": {},
     "output_type": "execute_result"
    }
   ],
   "source": [
    "x"
   ]
  },
  {
   "cell_type": "code",
   "execution_count": 14,
   "metadata": {},
   "outputs": [
    {
     "data": {
      "text/plain": [
       "[array([4, 9]),\n",
       " array([1.        , 2.25000001]),\n",
       " array([0.25  , 0.5625]),\n",
       " array([0.0625  , 0.140625]),\n",
       " array([0.015625  , 0.03515625]),\n",
       " array([0.00390625, 0.00878906]),\n",
       " array([0.00097656, 0.00219727]),\n",
       " array([0.00024414, 0.00054932]),\n",
       " array([6.10351560e-05, 1.37329102e-04]),\n",
       " array([1.52587890e-05, 3.43322756e-05]),\n",
       " array([3.81469725e-06, 8.58306890e-06]),\n",
       " array([9.53674312e-07, 2.14576722e-06]),\n",
       " array([2.38418578e-07, 5.36441807e-07])]"
      ]
     },
     "execution_count": 14,
     "metadata": {},
     "output_type": "execute_result"
    }
   ],
   "source": [
    "y"
   ]
  },
  {
   "cell_type": "code",
   "execution_count": null,
   "metadata": {},
   "outputs": [],
   "source": []
  }
 ],
 "metadata": {
  "kernelspec": {
   "display_name": "me700-hw1-env",
   "language": "python",
   "name": "python3"
  },
  "language_info": {
   "codemirror_mode": {
    "name": "ipython",
    "version": 3
   },
   "file_extension": ".py",
   "mimetype": "text/x-python",
   "name": "python",
   "nbconvert_exporter": "python",
   "pygments_lexer": "ipython3",
   "version": "3.12.9"
  }
 },
 "nbformat": 4,
 "nbformat_minor": 2
}
