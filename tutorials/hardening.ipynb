{
 "cells": [
  {
   "cell_type": "code",
   "execution_count": 2,
   "metadata": {},
   "outputs": [],
   "source": [
    "from hardening import EPMaterial\n",
    "import numpy as np\n",
    "import matplotlib.pyplot as plt"
   ]
  },
  {
   "cell_type": "markdown",
   "metadata": {},
   "source": [
    "## Elastiplastic Material\n",
    "\n",
    "This notebook contains a tutorial on how to create an elastoplastic material using either the isotropic model, the kinetic model, or a user-defined model. This is accomplished by the ```EPMaterial``` class in ```hardening.py```."
   ]
  },
  {
   "cell_type": "markdown",
   "metadata": {},
   "source": [
    "## Example 1: Isotropic Material\n",
    "\n",
    "An isotropic material's behavior is defined by the yield strength of the material adjusting to the maximum stress it has reached."
   ]
  },
  {
   "cell_type": "code",
   "execution_count": 3,
   "metadata": {},
   "outputs": [
    {
     "name": "stdout",
     "output_type": "stream",
     "text": [
      "Isotropic Elasto-Plastic Model\n",
      "Elastic Module: 1000.000000\n",
      "Tangent Module: 100.000000\n",
      "Current Stress: 14.000000\n",
      "Current Total Strain: 0.050000\n",
      "Current Plastic Strain: 0.036000\n",
      "Current Yield Strength: 14.000000\n",
      "Current Yield Center: 0.000000\n",
      "\n",
      "Isotropic Elasto-Plastic Model\n",
      "Elastic Module: 1000.000000\n",
      "Tangent Module: 100.000000\n",
      "Current Stress: -16.200000\n",
      "Current Total Strain: 0.000000\n",
      "Current Plastic Strain: 0.055800\n",
      "Current Yield Strength: 16.200000\n",
      "Current Yield Center: 0.000000\n"
     ]
    }
   ],
   "source": [
    "mat = EPMaterial(1000, 100, 'T', 10, 'I')\n",
    "mat.update_state(0.05)\n",
    "print(mat)\n",
    "print()\n",
    "mat.update_state(-0.05)\n",
    "print(mat)"
   ]
  },
  {
   "cell_type": "code",
   "execution_count": 4,
   "metadata": {},
   "outputs": [],
   "source": [
    "isomat = EPMaterial(1000, 100, 'T', 10, 'I')\n",
    "dstrainlist = [0.001]*50 + [-0.001]*100 + [0.001]*(50+70) + [-0.001]*140\n",
    "\n",
    "N = len(dstrainlist)\n",
    "statelist = [0]*N\n",
    "\n",
    "for i in range(N):\n",
    "    isomat.update_state(dstrainlist[i])\n",
    "    statelist[i] = isomat.return_state()\n",
    "\n",
    "tstrainlist = [state[1] for state in statelist]\n",
    "stresslist = [state[0] for state in statelist]\n",
    "\n",
    "plt.plot(tstrainlist, stresslist)"
   ]
  },
  {
   "cell_type": "code",
   "execution_count": null,
   "metadata": {},
   "outputs": [],
   "source": []
  }
 ],
 "metadata": {
  "kernelspec": {
   "display_name": "me700-hw1-env",
   "language": "python",
   "name": "python3"
  },
  "language_info": {
   "codemirror_mode": {
    "name": "ipython",
    "version": 3
   },
   "file_extension": ".py",
   "mimetype": "text/x-python",
   "name": "python",
   "nbconvert_exporter": "python",
   "pygments_lexer": "ipython3",
   "version": "3.12.9"
  }
 },
 "nbformat": 4,
 "nbformat_minor": 2
}
